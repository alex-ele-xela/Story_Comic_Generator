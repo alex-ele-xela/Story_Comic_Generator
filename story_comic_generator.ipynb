{
 "cells": [
  {
   "attachments": {},
   "cell_type": "markdown",
   "id": "d7413d2b",
   "metadata": {},
   "source": [
    "## Import libraries"
   ]
  },
  {
   "cell_type": "code",
   "execution_count": null,
   "id": "e9fe9b8d",
   "metadata": {},
   "outputs": [],
   "source": [
    "import requests\n",
    "from io import BytesIO\n",
    "from nltk import sent_tokenize\n",
    "from textwrap import wrap\n",
    "from PIL import Image, ImageDraw, ImageFont, ImageOps\n",
    "\n",
    "import openai\n",
    "import gradio as gr\n",
    "\n",
    "import warnings\n",
    "warnings.filterwarnings(\"ignore\")"
   ]
  },
  {
   "attachments": {},
   "cell_type": "markdown",
   "id": "59bfb6de",
   "metadata": {},
   "source": [
    "## Setting Open API key"
   ]
  },
  {
   "cell_type": "code",
   "execution_count": null,
   "id": "4978a2be",
   "metadata": {},
   "outputs": [],
   "source": [
    "openai.api_key = \"enter your key here\""
   ]
  },
  {
   "attachments": {},
   "cell_type": "markdown",
   "id": "545ae232",
   "metadata": {},
   "source": [
    "## Function to get story from ChatGPT"
   ]
  },
  {
   "cell_type": "code",
   "execution_count": null,
   "id": "ec2c1977",
   "metadata": {},
   "outputs": [],
   "source": [
    "def chatgpt_api(genre, words):\n",
    "    # Logging\n",
    "    print(f\"Generating story for Genre: {genre}.\\tWords: {words}\")\n",
    "\n",
    "    wordsList = \", \".join(words)\n",
    "\n",
    "    messages = [\n",
    "    {\"role\": \"system\", \"content\": \"You are a helpful assistant.\"}]\n",
    "    \n",
    "    if words and genre:\n",
    "        messages.append(\n",
    "            {\"role\": \"user\", \"content\": f\"In 100 words, write a story with the words: {wordsList}. It should be in the genre of {genre}\"},\n",
    "        )\n",
    "        \n",
    "        chat_completion = openai.ChatCompletion.create(\n",
    "            model=\"gpt-3.5-turbo\", messages=messages\n",
    "        )\n",
    "    \n",
    "    story = chat_completion.choices[0].message.content\n",
    "    return story"
   ]
  },
  {
   "attachments": {},
   "cell_type": "markdown",
   "id": "36bdf302",
   "metadata": {},
   "source": [
    "## Function to generate images using Dalle"
   ]
  },
  {
   "cell_type": "code",
   "execution_count": null,
   "id": "7320f996",
   "metadata": {},
   "outputs": [],
   "source": [
    "def dall_e_api(dalle_prompt):\n",
    "    dalle_response = openai.Image.create(\n",
    "            prompt = dalle_prompt,\n",
    "            size=\"512x512\"\n",
    "        )\n",
    "    image_url = dalle_response['data'][0]['url']\n",
    "\n",
    "    response = requests.get(image_url)\n",
    "    image = Image.open(BytesIO(response.content))\n",
    "    return image"
   ]
  },
  {
   "attachments": {},
   "cell_type": "markdown",
   "id": "a46b02fb",
   "metadata": {},
   "source": [
    "## Function to put text in generated image"
   ]
  },
  {
   "cell_type": "code",
   "execution_count": null,
   "id": "e398861f",
   "metadata": {},
   "outputs": [],
   "source": [
    "def write_line(image, line, v_offset):\n",
    "    draw = ImageDraw.Draw(image)\n",
    "    font = ImageFont.truetype(\"arialbd.ttf\", 18)\n",
    "    _, _, w, _ = draw.textbbox((0, 0), line, font=font)\n",
    "    draw.text(\n",
    "        xy=((512-w)/2, 490-v_offset),\n",
    "        text=line,\n",
    "        font=font,\n",
    "        fill=(255,255,255),\n",
    "        align=\"center\",\n",
    "        stroke_width=1,\n",
    "        stroke_fill=(0,0,0))\n",
    "    return image\n",
    "\n",
    "\n",
    "def write_text(image, text):\n",
    "    lines = wrap(text, width=53)\n",
    "    for i, line in enumerate(lines):\n",
    "        v_offset = (len(lines)- i) * 21\n",
    "        image = write_line(image, line, v_offset)\n",
    "    \n",
    "    return image"
   ]
  },
  {
   "attachments": {},
   "cell_type": "markdown",
   "id": "c949bce9",
   "metadata": {},
   "source": [
    "## Function to get story images from story"
   ]
  },
  {
   "cell_type": "code",
   "execution_count": null,
   "id": "8bb86c8c",
   "metadata": {},
   "outputs": [],
   "source": [
    "def get_story_images(story, genre):\n",
    "    sentenceList = sent_tokenize(story)\n",
    "    \n",
    "    images = []\n",
    "    for sentence in sentenceList:\n",
    "        # Logging\n",
    "        print(f\"Generating image for: {sentence}\")\n",
    "\n",
    "        dalle_prompt = f'{sentence} Genre:\"{genre}\"'\n",
    "        image = dall_e_api(dalle_prompt)\n",
    "        images.append(write_text(image, sentence))\n",
    "\n",
    "    return images"
   ]
  },
  {
   "attachments": {},
   "cell_type": "markdown",
   "id": "d9fdf879",
   "metadata": {},
   "source": [
    "## Function to make comic strip"
   ]
  },
  {
   "cell_type": "code",
   "execution_count": null,
   "id": "5d7fabda",
   "metadata": {},
   "outputs": [],
   "source": [
    "def get_comic(images):\n",
    "    # Logging\n",
    "    print(\"Creating comic\")\n",
    "    \n",
    "    rows = len(images)\n",
    "    height = rows * 530\n",
    "    comic = Image.new('RGB', (540, height), \"white\")\n",
    "\n",
    "    y = 7\n",
    "    for row in range(rows):\n",
    "        img = ImageOps.expand(images[row], border=2, fill='black')\n",
    "        comic.paste(img, (12, y))\n",
    "        y += 530\n",
    "\n",
    "    return comic\n",
    "\n",
    "\n",
    "def get_default_comic():\n",
    "    default = Image.new('RGB', (512, 512), \"white\")\n",
    "    default = write_text(default, \"Dalle cannot generate images for the story. Please try different prompts.\")\n",
    "    return default"
   ]
  },
  {
   "attachments": {},
   "cell_type": "markdown",
   "id": "964799ea",
   "metadata": {},
   "source": [
    "## Function to take user input and generate story"
   ]
  },
  {
   "cell_type": "code",
   "execution_count": null,
   "id": "2ec66e64",
   "metadata": {},
   "outputs": [],
   "source": [
    "def generate_story(genre, *wordList):\n",
    "    print(wordList)\n",
    "    words = []\n",
    "    for word in wordList:\n",
    "        if word == \"\":\n",
    "            continue\n",
    "        words.append(word)\n",
    "    print(words)\n",
    "    story = chatgpt_api(genre, words)\n",
    "\n",
    "    return story\n",
    "\n",
    "def generate_comic(story, genre):\n",
    "    try:\n",
    "        images = get_story_images(story, genre)\n",
    "        comic = get_comic(images)\n",
    "    except Exception as ex:\n",
    "        comic = get_default_comic()\n",
    "\n",
    "        # Logging error message\n",
    "        if hasattr(ex, 'message'):\n",
    "            print(ex.message)\n",
    "        else:\n",
    "            print(ex)\n",
    "\n",
    "    return comic"
   ]
  },
  {
   "attachments": {},
   "cell_type": "markdown",
   "id": "8a9a7b22",
   "metadata": {},
   "source": [
    "# Gradio Interface"
   ]
  },
  {
   "cell_type": "code",
   "execution_count": null,
   "id": "7222c582",
   "metadata": {},
   "outputs": [],
   "source": [
    "with gr.Blocks() as app:\n",
    "    gr.Markdown('<h1 style=\"text-align: center;\">Story and Comic Generator</h1>')\n",
    "    gr.Markdown('<p style=\"text-align: center;\">using the Open AI API</p>')\n",
    "\n",
    "    # Giving input to generate story\n",
    "    gr.Markdown(\"## Please enter the genre for the story below\")\n",
    "    genre = gr.Textbox(label=\"Genre\")\n",
    "\n",
    "    gr.Markdown(\"## Please enter the keywords that must be used below\")\n",
    "    words = []\n",
    "    counter = 1\n",
    "    for i in range(2):\n",
    "        with gr.Row():\n",
    "            for j in range(3):\n",
    "                words.append(gr.Textbox(label=f\"Word {counter}\"))\n",
    "                counter += 1\n",
    "\n",
    "    gr.Markdown(\"<hr>\")\n",
    "\n",
    "    # Generating Story\n",
    "    story_btn = gr.Button(\"Generate Story\")\n",
    "    story = gr.Textbox(label=\"Generated Story\", interactive=False)\n",
    "    story_btn.click(fn=generate_story,\n",
    "              inputs=[genre,\n",
    "                      words[0],\n",
    "                      words[1],\n",
    "                      words[2],\n",
    "                      words[3],\n",
    "                      words[4],\n",
    "                      words[5]],\n",
    "              outputs=story)\n",
    "    \n",
    "    gr.Markdown(\"<hr>\")\n",
    "\n",
    "    # Generating Comic\n",
    "    gr.Markdown(\"Please note that there are restrictions on the Dalle API limiting it to 5 images per minute. It also follows certain security restrictions which stop it from generating images related to certain topics. If the Comic fails to generate due to any reason, you could try using different prompts or generate comics for a story that is 5 sentences or lesser\")\n",
    "    comic_btn = gr.Button(\"Generate Comic\")\n",
    "    gr.Markdown(\"Comic generation may take about 2-3 minutes. Please be patient\")\n",
    "    comic = gr.Image(label=\"Generated Comic\")\n",
    "\n",
    "    comic_btn.click(fn=generate_comic,\n",
    "              inputs=[story, genre],\n",
    "              outputs=comic)\n",
    "\n",
    "app.title = \"Story and Comic Generator\"\n",
    "app.launch()"
   ]
  }
 ],
 "metadata": {
  "kernelspec": {
   "display_name": "Python 3 (ipykernel)",
   "language": "python",
   "name": "python3"
  },
  "language_info": {
   "codemirror_mode": {
    "name": "ipython",
    "version": 3
   },
   "file_extension": ".py",
   "mimetype": "text/x-python",
   "name": "python",
   "nbconvert_exporter": "python",
   "pygments_lexer": "ipython3",
   "version": "3.11.3"
  }
 },
 "nbformat": 4,
 "nbformat_minor": 5
}
